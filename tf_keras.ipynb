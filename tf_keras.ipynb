{
 "cells": [
  {
   "cell_type": "code",
   "execution_count": 4,
   "metadata": {},
   "outputs": [],
   "source": [
    "from tensorflow.keras.models import Sequential\n",
    "from tensorflow.keras.layers import Dense\n",
    "import numpy as np"
   ]
  },
  {
   "cell_type": "code",
   "execution_count": 5,
   "metadata": {},
   "outputs": [],
   "source": [
    "# Step 1: Define the data\n",
    "#Input features : [Weather, Mood, Time of day]\n",
    "#Output : [Coffee]\n",
    "\n",
    "data = np.array([\n",
    "        [0,0,0],\n",
    "        [1,0,1],\n",
    "        [0,1,0],\n",
    "        [1,1,1],\n",
    "        [0,0,1],\n",
    "        [1,0,0],\n",
    "        [0,1,1],\n",
    "        [1,1,0]\n",
    "     ])\n",
    "      "
   ]
  },
  {
   "cell_type": "code",
   "execution_count": 6,
   "metadata": {},
   "outputs": [],
   "source": [
    "labels = np.array([0,1,0,1,1,0,1,0])\n"
   ]
  },
  {
   "cell_type": "code",
   "execution_count": 8,
   "metadata": {},
   "outputs": [
    {
     "name": "stderr",
     "output_type": "stream",
     "text": [
      "/home/codespace/.python/current/lib/python3.12/site-packages/keras/src/layers/core/dense.py:87: UserWarning: Do not pass an `input_shape`/`input_dim` argument to a layer. When using Sequential models, prefer using an `Input(shape)` object as the first layer in the model instead.\n",
      "  super().__init__(activity_regularizer=activity_regularizer, **kwargs)\n",
      "2024-12-29 02:00:03.514745: E external/local_xla/xla/stream_executor/cuda/cuda_driver.cc:152] failed call to cuInit: INTERNAL: CUDA error: Failed call to cuInit: UNKNOWN ERROR (303)\n"
     ]
    },
    {
     "data": {
      "text/plain": [
       "<Sequential name=sequential_1, built=True>"
      ]
     },
     "execution_count": 8,
     "metadata": {},
     "output_type": "execute_result"
    }
   ],
   "source": [
    "model = Sequential([\n",
    "    Dense(3, activation='relu', input_shape=(3,)),\n",
    "    Dense(1, activation='sigmoid'),\n",
    "])\n",
    "model"
   ]
  },
  {
   "cell_type": "code",
   "execution_count": 9,
   "metadata": {},
   "outputs": [],
   "source": [
    "# Compile the model\n",
    "model.compile(optimizer='adam',\n",
    "              loss='binary_crossentropy',\n",
    "              metrics=['accuracy']) "
   ]
  },
  {
   "cell_type": "code",
   "execution_count": 10,
   "metadata": {},
   "outputs": [
    {
     "name": "stdout",
     "output_type": "stream",
     "text": [
      "Epoch 1/30\n",
      "1/1 - 1s - 731ms/step - accuracy: 0.3750 - loss: 0.8677\n",
      "Epoch 2/30\n",
      "1/1 - 0s - 77ms/step - accuracy: 0.2500 - loss: 0.8667\n",
      "Epoch 3/30\n",
      "1/1 - 0s - 27ms/step - accuracy: 0.2500 - loss: 0.8657\n",
      "Epoch 4/30\n",
      "1/1 - 0s - 25ms/step - accuracy: 0.2500 - loss: 0.8646\n",
      "Epoch 5/30\n",
      "1/1 - 0s - 60ms/step - accuracy: 0.2500 - loss: 0.8636\n",
      "Epoch 6/30\n",
      "1/1 - 0s - 59ms/step - accuracy: 0.2500 - loss: 0.8626\n",
      "Epoch 7/30\n",
      "1/1 - 0s - 25ms/step - accuracy: 0.2500 - loss: 0.8616\n",
      "Epoch 8/30\n",
      "1/1 - 0s - 25ms/step - accuracy: 0.2500 - loss: 0.8605\n",
      "Epoch 9/30\n",
      "1/1 - 0s - 32ms/step - accuracy: 0.2500 - loss: 0.8595\n",
      "Epoch 10/30\n",
      "1/1 - 0s - 55ms/step - accuracy: 0.2500 - loss: 0.8585\n",
      "Epoch 11/30\n",
      "1/1 - 0s - 25ms/step - accuracy: 0.2500 - loss: 0.8575\n",
      "Epoch 12/30\n",
      "1/1 - 0s - 26ms/step - accuracy: 0.2500 - loss: 0.8565\n",
      "Epoch 13/30\n",
      "1/1 - 0s - 60ms/step - accuracy: 0.2500 - loss: 0.8555\n",
      "Epoch 14/30\n",
      "1/1 - 0s - 58ms/step - accuracy: 0.2500 - loss: 0.8545\n",
      "Epoch 15/30\n",
      "1/1 - 0s - 24ms/step - accuracy: 0.2500 - loss: 0.8535\n",
      "Epoch 16/30\n",
      "1/1 - 0s - 26ms/step - accuracy: 0.2500 - loss: 0.8525\n",
      "Epoch 17/30\n",
      "1/1 - 0s - 24ms/step - accuracy: 0.2500 - loss: 0.8516\n",
      "Epoch 18/30\n",
      "1/1 - 0s - 25ms/step - accuracy: 0.2500 - loss: 0.8506\n",
      "Epoch 19/30\n",
      "1/1 - 0s - 62ms/step - accuracy: 0.2500 - loss: 0.8496\n",
      "Epoch 20/30\n",
      "1/1 - 0s - 26ms/step - accuracy: 0.2500 - loss: 0.8486\n",
      "Epoch 21/30\n",
      "1/1 - 0s - 29ms/step - accuracy: 0.2500 - loss: 0.8477\n",
      "Epoch 22/30\n",
      "1/1 - 0s - 39ms/step - accuracy: 0.3750 - loss: 0.8467\n",
      "Epoch 23/30\n",
      "1/1 - 0s - 55ms/step - accuracy: 0.3750 - loss: 0.8458\n",
      "Epoch 24/30\n",
      "1/1 - 0s - 33ms/step - accuracy: 0.3750 - loss: 0.8449\n",
      "Epoch 25/30\n",
      "1/1 - 0s - 25ms/step - accuracy: 0.3750 - loss: 0.8439\n",
      "Epoch 26/30\n",
      "1/1 - 0s - 25ms/step - accuracy: 0.3750 - loss: 0.8430\n",
      "Epoch 27/30\n",
      "1/1 - 0s - 25ms/step - accuracy: 0.3750 - loss: 0.8421\n",
      "Epoch 28/30\n",
      "1/1 - 0s - 26ms/step - accuracy: 0.3750 - loss: 0.8411\n",
      "Epoch 29/30\n",
      "1/1 - 0s - 58ms/step - accuracy: 0.3750 - loss: 0.8402\n",
      "Epoch 30/30\n",
      "1/1 - 0s - 26ms/step - accuracy: 0.3750 - loss: 0.8393\n"
     ]
    },
    {
     "data": {
      "text/plain": [
       "<keras.src.callbacks.history.History at 0x77fe9bc46630>"
      ]
     },
     "execution_count": 10,
     "metadata": {},
     "output_type": "execute_result"
    }
   ],
   "source": [
    "model.fit(data, labels, epochs=30, verbose=2)"
   ]
  }
 ],
 "metadata": {
  "language_info": {
   "name": "python"
  }
 },
 "nbformat": 4,
 "nbformat_minor": 2
}
