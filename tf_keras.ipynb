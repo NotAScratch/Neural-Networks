{
 "cells": [
  {
   "cell_type": "code",
   "execution_count": 4,
   "metadata": {},
   "outputs": [],
   "source": [
    "from tensorflow.keras.models import Sequential\n",
    "from tensorflow.keras.layers import Dense\n",
    "from tensorflow.keras.\n",
    "import numpy as np"
   ]
  },
  {
   "cell_type": "code",
   "execution_count": 5,
   "metadata": {},
   "outputs": [],
   "source": [
    "# Step 1: Define the data\n",
    "#Input features : [Weather, Mood, Time of day]\n",
    "#Output : [Coffee]\n",
    "\n",
    "data = np.array([\n",
    "        [0,0,0],\n",
    "        [1,0,1],\n",
    "        [0,1,0],\n",
    "        [1,1,1],\n",
    "        [0,0,1],\n",
    "        [1,0,0],\n",
    "        [0,1,1],\n",
    "        [1,1,0]\n",
    "     ])\n",
    "      "
   ]
  },
  {
   "cell_type": "code",
   "execution_count": 6,
   "metadata": {},
   "outputs": [],
   "source": [
    "labels = np.array([0,1,0,1,1,0,1,0])\n"
   ]
  },
  {
   "cell_type": "code",
   "execution_count": 8,
   "metadata": {},
   "outputs": [
    {
     "name": "stderr",
     "output_type": "stream",
     "text": [
      "/home/codespace/.python/current/lib/python3.12/site-packages/keras/src/layers/core/dense.py:87: UserWarning: Do not pass an `input_shape`/`input_dim` argument to a layer. When using Sequential models, prefer using an `Input(shape)` object as the first layer in the model instead.\n",
      "  super().__init__(activity_regularizer=activity_regularizer, **kwargs)\n",
      "2024-12-29 02:00:03.514745: E external/local_xla/xla/stream_executor/cuda/cuda_driver.cc:152] failed call to cuInit: INTERNAL: CUDA error: Failed call to cuInit: UNKNOWN ERROR (303)\n"
     ]
    },
    {
     "data": {
      "text/plain": [
       "<Sequential name=sequential_1, built=True>"
      ]
     },
     "execution_count": 8,
     "metadata": {},
     "output_type": "execute_result"
    }
   ],
   "source": [
    "model = Sequential([\n",
    "    Dense(3, activation='relu', input_shape=(3,)),\n",
    "    Dense(1, activation='sigmoid'),\n",
    "])\n",
    "model"
   ]
  },
  {
   "cell_type": "code",
   "execution_count": 9,
   "metadata": {},
   "outputs": [],
   "source": [
    "# Compile the model\n",
    "model.compile(optimizer='adam',\n",
    "              loss='binary_crossentropy',\n",
    "              metrics=['accuracy']) "
   ]
  },
  {
   "cell_type": "code",
   "execution_count": 16,
   "metadata": {},
   "outputs": [
    {
     "name": "stdout",
     "output_type": "stream",
     "text": [
      "Epoch 1/30\n",
      "1/1 - 0s - 28ms/step - accuracy: 0.2500 - loss: 0.7632\n",
      "Epoch 2/30\n",
      "1/1 - 0s - 25ms/step - accuracy: 0.2500 - loss: 0.7627\n",
      "Epoch 3/30\n"
     ]
    },
    {
     "name": "stdout",
     "output_type": "stream",
     "text": [
      "1/1 - 0s - 65ms/step - accuracy: 0.2500 - loss: 0.7623\n",
      "Epoch 4/30\n",
      "1/1 - 0s - 25ms/step - accuracy: 0.2500 - loss: 0.7618\n",
      "Epoch 5/30\n",
      "1/1 - 0s - 59ms/step - accuracy: 0.2500 - loss: 0.7614\n",
      "Epoch 6/30\n",
      "1/1 - 0s - 27ms/step - accuracy: 0.2500 - loss: 0.7609\n",
      "Epoch 7/30\n",
      "1/1 - 0s - 25ms/step - accuracy: 0.2500 - loss: 0.7605\n",
      "Epoch 8/30\n",
      "1/1 - 0s - 58ms/step - accuracy: 0.2500 - loss: 0.7600\n",
      "Epoch 9/30\n",
      "1/1 - 0s - 25ms/step - accuracy: 0.2500 - loss: 0.7596\n",
      "Epoch 10/30\n",
      "1/1 - 0s - 25ms/step - accuracy: 0.2500 - loss: 0.7591\n",
      "Epoch 11/30\n",
      "1/1 - 0s - 24ms/step - accuracy: 0.2500 - loss: 0.7587\n",
      "Epoch 12/30\n",
      "1/1 - 0s - 24ms/step - accuracy: 0.2500 - loss: 0.7582\n",
      "Epoch 13/30\n",
      "1/1 - 0s - 24ms/step - accuracy: 0.2500 - loss: 0.7578\n",
      "Epoch 14/30\n",
      "1/1 - 0s - 60ms/step - accuracy: 0.2500 - loss: 0.7574\n",
      "Epoch 15/30\n",
      "1/1 - 0s - 58ms/step - accuracy: 0.2500 - loss: 0.7569\n",
      "Epoch 16/30\n",
      "1/1 - 0s - 61ms/step - accuracy: 0.2500 - loss: 0.7565\n",
      "Epoch 17/30\n",
      "1/1 - 0s - 25ms/step - accuracy: 0.2500 - loss: 0.7561\n",
      "Epoch 18/30\n",
      "1/1 - 0s - 62ms/step - accuracy: 0.2500 - loss: 0.7557\n",
      "Epoch 19/30\n",
      "1/1 - 0s - 25ms/step - accuracy: 0.2500 - loss: 0.7552\n",
      "Epoch 20/30\n",
      "1/1 - 0s - 25ms/step - accuracy: 0.2500 - loss: 0.7548\n",
      "Epoch 21/30\n",
      "1/1 - 0s - 62ms/step - accuracy: 0.2500 - loss: 0.7544\n",
      "Epoch 22/30\n",
      "1/1 - 0s - 26ms/step - accuracy: 0.2500 - loss: 0.7540\n",
      "Epoch 23/30\n",
      "1/1 - 0s - 26ms/step - accuracy: 0.2500 - loss: 0.7536\n",
      "Epoch 24/30\n",
      "1/1 - 0s - 24ms/step - accuracy: 0.2500 - loss: 0.7532\n",
      "Epoch 25/30\n",
      "1/1 - 0s - 61ms/step - accuracy: 0.2500 - loss: 0.7528\n",
      "Epoch 26/30\n",
      "1/1 - 0s - 68ms/step - accuracy: 0.2500 - loss: 0.7524\n",
      "Epoch 27/30\n",
      "1/1 - 0s - 50ms/step - accuracy: 0.2500 - loss: 0.7520\n",
      "Epoch 28/30\n",
      "1/1 - 0s - 26ms/step - accuracy: 0.2500 - loss: 0.7516\n",
      "Epoch 29/30\n",
      "1/1 - 0s - 25ms/step - accuracy: 0.2500 - loss: 0.7512\n",
      "Epoch 30/30\n",
      "1/1 - 0s - 25ms/step - accuracy: 0.2500 - loss: 0.7508\n"
     ]
    },
    {
     "data": {
      "text/plain": [
       "<keras.src.callbacks.history.History at 0x77fe83f483b0>"
      ]
     },
     "execution_count": 16,
     "metadata": {},
     "output_type": "execute_result"
    }
   ],
   "source": [
    "model.fit(data, labels, epochs=30, verbose=2)"
   ]
  },
  {
   "cell_type": "code",
   "execution_count": 17,
   "metadata": {},
   "outputs": [],
   "source": [
    "data_1 = {\n",
    "    'Size' : [1500, 2000, 2500, 3000, 3500, 4000, 4500],\n",
    "    'Bedrooms' : [3, 2, 3, 3, 2, 3, 2],\n",
    "    'Age' : [20, 15, 18, 30, 8, 10, 5],\n",
    "    'Price' : [100000, 150000, 200000, 250000, 300000, 350000, 400000]\n",
    "}\n",
    "\n"
   ]
  },
  {
   "cell_type": "code",
   "execution_count": 18,
   "metadata": {},
   "outputs": [],
   "source": [
    "import pandas as pd"
   ]
  },
  {
   "cell_type": "code",
   "execution_count": 20,
   "metadata": {},
   "outputs": [
    {
     "data": {
      "text/html": [
       "<div>\n",
       "<style scoped>\n",
       "    .dataframe tbody tr th:only-of-type {\n",
       "        vertical-align: middle;\n",
       "    }\n",
       "\n",
       "    .dataframe tbody tr th {\n",
       "        vertical-align: top;\n",
       "    }\n",
       "\n",
       "    .dataframe thead th {\n",
       "        text-align: right;\n",
       "    }\n",
       "</style>\n",
       "<table border=\"1\" class=\"dataframe\">\n",
       "  <thead>\n",
       "    <tr style=\"text-align: right;\">\n",
       "      <th></th>\n",
       "      <th>Size</th>\n",
       "      <th>Bedrooms</th>\n",
       "      <th>Age</th>\n",
       "      <th>Price</th>\n",
       "    </tr>\n",
       "  </thead>\n",
       "  <tbody>\n",
       "    <tr>\n",
       "      <th>0</th>\n",
       "      <td>1500</td>\n",
       "      <td>3</td>\n",
       "      <td>20</td>\n",
       "      <td>100000</td>\n",
       "    </tr>\n",
       "    <tr>\n",
       "      <th>1</th>\n",
       "      <td>2000</td>\n",
       "      <td>2</td>\n",
       "      <td>15</td>\n",
       "      <td>150000</td>\n",
       "    </tr>\n",
       "    <tr>\n",
       "      <th>2</th>\n",
       "      <td>2500</td>\n",
       "      <td>3</td>\n",
       "      <td>18</td>\n",
       "      <td>200000</td>\n",
       "    </tr>\n",
       "    <tr>\n",
       "      <th>3</th>\n",
       "      <td>3000</td>\n",
       "      <td>3</td>\n",
       "      <td>30</td>\n",
       "      <td>250000</td>\n",
       "    </tr>\n",
       "    <tr>\n",
       "      <th>4</th>\n",
       "      <td>3500</td>\n",
       "      <td>2</td>\n",
       "      <td>8</td>\n",
       "      <td>300000</td>\n",
       "    </tr>\n",
       "  </tbody>\n",
       "</table>\n",
       "</div>"
      ],
      "text/plain": [
       "   Size  Bedrooms  Age   Price\n",
       "0  1500         3   20  100000\n",
       "1  2000         2   15  150000\n",
       "2  2500         3   18  200000\n",
       "3  3000         3   30  250000\n",
       "4  3500         2    8  300000"
      ]
     },
     "execution_count": 20,
     "metadata": {},
     "output_type": "execute_result"
    }
   ],
   "source": [
    "df = pd.DataFrame(data_1)\n",
    "df.head()"
   ]
  },
  {
   "cell_type": "code",
   "execution_count": 22,
   "metadata": {},
   "outputs": [],
   "source": [
    "X = df[['Size', 'Bedrooms', 'Age']].values\n",
    "y = df['Price'].values"
   ]
  },
  {
   "cell_type": "code",
   "execution_count": 26,
   "metadata": {},
   "outputs": [],
   "source": [
    "from sklearn.model_selection import train_test_split"
   ]
  },
  {
   "cell_type": "code",
   "execution_count": 27,
   "metadata": {},
   "outputs": [],
   "source": [
    "X_train, X_test, y_train, y_test = train_test_split(X,y,test_size=0.2,random_state=42)\n"
   ]
  },
  {
   "cell_type": "code",
   "execution_count": 23,
   "metadata": {},
   "outputs": [
    {
     "name": "stderr",
     "output_type": "stream",
     "text": [
      "/home/codespace/.python/current/lib/python3.12/site-packages/keras/src/layers/core/dense.py:87: UserWarning: Do not pass an `input_shape`/`input_dim` argument to a layer. When using Sequential models, prefer using an `Input(shape)` object as the first layer in the model instead.\n",
      "  super().__init__(activity_regularizer=activity_regularizer, **kwargs)\n"
     ]
    }
   ],
   "source": [
    "model = Sequential([\n",
    "    Dense(16, activation='relu', input_shape=(3,)),\n",
    "    Dense(8, activation='relu'),\n",
    "    Dense(1),\n",
    "])"
   ]
  },
  {
   "cell_type": "code",
   "execution_count": 24,
   "metadata": {},
   "outputs": [],
   "source": [
    "model.compile(optimizer='adam', loss='mse', metrics=['mae'])"
   ]
  },
  {
   "cell_type": "code",
   "execution_count": null,
   "metadata": {},
   "outputs": [],
   "source": [
    "history = model.fit(X_train, y_train, epochs=3, validation_data=(X_test, y_test))"
   ]
  }
 ],
 "metadata": {
  "kernelspec": {
   "display_name": "Python 3",
   "language": "python",
   "name": "python3"
  },
  "language_info": {
   "name": "python",
   "version": "3.12.1"
  }
 },
 "nbformat": 4,
 "nbformat_minor": 2
}
